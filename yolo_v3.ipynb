{
  "nbformat": 4,
  "nbformat_minor": 0,
  "metadata": {
    "colab": {
      "name": "yolo-v3.ipynb",
      "provenance": [],
      "private_outputs": true
    },
    "kernelspec": {
      "name": "python3",
      "display_name": "Python 3"
    }
  },
  "cells": [
    {
      "cell_type": "code",
      "metadata": {
        "id": "-vEnPcOQeUU7",
        "colab_type": "code",
        "colab": {}
      },
      "source": [
        "import cv2, os\n",
        "import matplotlib.pyplot as plt\n",
        "%matplotlib inline"
      ],
      "execution_count": 0,
      "outputs": []
    },
    {
      "cell_type": "code",
      "metadata": {
        "id": "LWV7IO4peXp-",
        "colab_type": "code",
        "colab": {}
      },
      "source": [
        "!ls\n",
        "!cd /content\n",
        "!rm -fr darknet\n",
        "!git clone https://github.com/AlexeyAB/darknet/\n",
        "% cd darknet\n",
        "!sed -i 's/OPENCV=0/OPENCV=1/g' Makefile\n",
        "!sed -i 's/GPU=0/GPU=1/g' Makefile\n",
        "!sed -i 's/CUDNN=0/CUDNN=1/g' Makefile\n",
        "!apt update\n",
        "!apt-get install libopencv-dev"
      ],
      "execution_count": 0,
      "outputs": []
    },
    {
      "cell_type": "code",
      "metadata": {
        "id": "gHrXnILueeR-",
        "colab_type": "code",
        "colab": {}
      },
      "source": [
        "!make &> compile.log"
      ],
      "execution_count": 0,
      "outputs": []
    },
    {
      "cell_type": "code",
      "metadata": {
        "id": "_NHTD2zrejg2",
        "colab_type": "code",
        "colab": {}
      },
      "source": [
        "!wget https://pjreddie.com/media/files/yolov3.weights"
      ],
      "execution_count": 0,
      "outputs": []
    },
    {
      "cell_type": "code",
      "metadata": {
        "id": "Ev5wSZRde95M",
        "colab_type": "code",
        "colab": {}
      },
      "source": [
        "def predictImage(imageDir):\n",
        "  os.system(\"cd /content/darknet && ./darknet detect cfg/yolov3.cfg yolov3.weights {}\".format(imageDir))\n",
        "  image = cv2.imread(\"/content/darknet/predictions.jpg\")\n",
        "  height, width = image.shape[:2]\n",
        "  resized_image = cv2.resize(image,(3*width, 3*height), interpolation = cv2.INTER_CUBIC)\n",
        "\n",
        "  fig = plt.gcf()\n",
        "  fig.set_size_inches(18, 10)\n",
        "  plt.axis(\"off\")\n",
        "  #plt.rcParams['figure.figsize'] = [10, 5]\n",
        "  plt.imshow(cv2.cvtColor(resized_image, cv2.COLOR_BGR2RGB))\n",
        "  plt.show()"
      ],
      "execution_count": 0,
      "outputs": []
    },
    {
      "cell_type": "code",
      "metadata": {
        "id": "EIgb2DyTfAdf",
        "colab_type": "code",
        "colab": {}
      },
      "source": [
        "!wget https://github.com/mozanunal/yoloOnGoogleColab/raw/master/test/test.jpg\n",
        "!ls"
      ],
      "execution_count": 0,
      "outputs": []
    },
    {
      "cell_type": "code",
      "metadata": {
        "id": "VORuw3xmf0H9",
        "colab_type": "code",
        "colab": {}
      },
      "source": [
        "predictImage(\"test.jpg\")"
      ],
      "execution_count": 0,
      "outputs": []
    },
    {
      "cell_type": "code",
      "metadata": {
        "id": "a_fL0N6Zf3pO",
        "colab_type": "code",
        "colab": {}
      },
      "source": [
        "def predictVideo(videoDir):\n",
        "  os.system(\"\"\" cd /content/darknet && ./darknet detector demo cfg/coco.data cfg/yolov3.cfg yolov3.weights \\\n",
        "  -dont_show {} -i 0 -out_filename res.avi\n",
        "  \"\"\".format(videoDir))"
      ],
      "execution_count": 0,
      "outputs": []
    },
    {
      "cell_type": "code",
      "metadata": {
        "id": "Q5q6GYLZf63T",
        "colab_type": "code",
        "colab": {}
      },
      "source": [
        "!wget https://github.com/mozanunal/yoloOnGoogleColab/raw/master/test/test.avi\n",
        "!ls"
      ],
      "execution_count": 0,
      "outputs": []
    },
    {
      "cell_type": "code",
      "metadata": {
        "id": "FNlI6Fg4f9yf",
        "colab_type": "code",
        "colab": {}
      },
      "source": [
        "predictVideo(\"test.avi\")"
      ],
      "execution_count": 0,
      "outputs": []
    },
    {
      "cell_type": "code",
      "metadata": {
        "id": "qs1_uVVKgAZJ",
        "colab_type": "code",
        "colab": {}
      },
      "source": [
        "!du -h res.avi"
      ],
      "execution_count": 0,
      "outputs": []
    },
    {
      "cell_type": "code",
      "metadata": {
        "id": "FJJQwBe-gDaD",
        "colab_type": "code",
        "colab": {}
      },
      "source": [
        "from google.colab import files\n",
        "\n",
        "files.download('/content/darknet/res.avi')"
      ],
      "execution_count": 0,
      "outputs": []
    }
  ]
}